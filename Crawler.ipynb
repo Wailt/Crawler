{
 "cells": [
  {
   "cell_type": "code",
   "execution_count": null,
   "metadata": {
    "collapsed": false
   },
   "outputs": [],
   "source": [
    "from crawler import crawler\n",
    "from time import time"
   ]
  },
  {
   "cell_type": "code",
   "execution_count": null,
   "metadata": {
    "collapsed": false,
    "scrolled": false
   },
   "outputs": [
    {
     "name": "stdout",
     "output_type": "stream",
     "text": [
      "Data:\n",
      "unvisited pages:\n",
      "https://mo.wikipedia.org\n",
      "\n",
      "visited 1 unvisited 41 mean_time: 0.002347531485650326\n",
      "visited 42 unvisited 330 mean_time: 0.004990891406410619\n",
      "visited 298 unvisited 569 mean_time: 0.013893730463690194\n",
      "visited 554 unvisited 731 mean_time: 0.018101301425840797\n",
      "visited 789 unvisited 805 mean_time: 0.021472120545600933\n",
      "visited 1014 unvisited 955 mean_time: 0.024352174497069518\n",
      "visited 1186 unvisited 1154 mean_time: 0.026466210993454566\n",
      "visited 1366 unvisited 1411 mean_time: 0.02877987844877676\n",
      "visited 1578 unvisited 1872 mean_time: 0.029488114007383003\n",
      "visited 1739 unvisited 2107 mean_time: 0.02981658309570098\n",
      "visited 1886 unvisited 2576 mean_time: 0.029889610332506616\n",
      "visited 2035 unvisited 2806 mean_time: 0.029909847770340853\n",
      "visited 2217 unvisited 3095 mean_time: 0.02990872117269143\n",
      "visited 2408 unvisited 3085 mean_time: 0.029954385890455258\n",
      "visited 2632 unvisited 3124 mean_time: 0.029790303384969085\n",
      "visited 2826 unvisited 3170 mean_time: 0.029664396686847252\n",
      "visited 2965 unvisited 3184 mean_time: 0.0295199660523141\n",
      "visited 3081 unvisited 3139 mean_time: 0.029384834229959068\n",
      "visited 3148 unvisited 3107 mean_time: 0.02927939222870971\n",
      "visited 3209 unvisited 3084 mean_time: 0.02915970610119686\n",
      "visited 3268 unvisited 3197 mean_time: 0.02916459725074704\n",
      "visited 3345 unvisited 3184 mean_time: 0.029102627684628585\n",
      "visited 3433 unvisited 3159 mean_time: 0.02909873737951231\n",
      "visited 3614 unvisited 3099 mean_time: 0.02915359672440854\n",
      "visited 3782 unvisited 3102 mean_time: 0.029167494500471156\n",
      "visited 3968 unvisited 2897 mean_time: 0.029135978202195215\n",
      "visited 4181 unvisited 2734 mean_time: 0.029098880527230916\n"
     ]
    }
   ],
   "source": [
    "total = time()\n",
    "## 'https:<name>'\n",
    "moWiki = 'https://mo.wikipedia.org'\n",
    "batch = 256\n",
    "cr = crawler(moWiki, n = 16, batch = batch)\n",
    "print(cr)\n",
    "n = 1\n",
    "b = time()\n",
    "while(cr.has_step()):\n",
    "    cr.toCraw()\n",
    "    n += batch\n",
    "    print('visited', len(cr.data), 'unvisited', len(cr.unvisitedPage), 'mean_time:', (time() - b)/n)\n",
    "print('threads: ', 16, 'time: ',time() - total)\n"
   ]
  },
  {
   "cell_type": "code",
   "execution_count": null,
   "metadata": {
    "collapsed": false
   },
   "outputs": [],
   "source": [
    "print(len(cr.filter_url_img()))"
   ]
  },
  {
   "cell_type": "code",
   "execution_count": null,
   "metadata": {
    "collapsed": false
   },
   "outputs": [],
   "source": [
    "cr.download_img(uns=False)"
   ]
  },
  {
   "cell_type": "code",
   "execution_count": null,
   "metadata": {
    "collapsed": false
   },
   "outputs": [],
   "source": [
    "moWiki = 'https://mo.wikipedia.org'\n",
    "lis = ['https://mo.wikipedia.org']\n",
    "for pages in cr.data:\n",
    "    lis+= pages.pageList\n",
    "lis = list(set(lis))"
   ]
  },
  {
   "cell_type": "code",
   "execution_count": 11,
   "metadata": {
    "collapsed": false
   },
   "outputs": [],
   "source": [
    "index = {}\n",
    "for i,k in enumerate(lis):\n",
    "    index.update({k:i})"
   ]
  },
  {
   "cell_type": "code",
   "execution_count": null,
   "metadata": {
    "collapsed": false
   },
   "outputs": [],
   "source": []
  },
  {
   "cell_type": "code",
   "execution_count": 12,
   "metadata": {
    "collapsed": false
   },
   "outputs": [],
   "source": [
    "matrix = []\n",
    "zero=[]\n",
    "x=0\n",
    "for i in range(0,len(cr.data)):\n",
    "    zero=[]\n",
    "    for i in range(0,len(cr.data)):\n",
    "        zero.append(0)\n",
    "    matrix.append(zero)\n",
    "for i in cr.data:\n",
    "    for j in i.pageList:\n",
    "        matrix[index[i.title]][index[j]]=1"
   ]
  },
  {
   "cell_type": "code",
   "execution_count": 13,
   "metadata": {
    "collapsed": false
   },
   "outputs": [],
   "source": [
    "gr = matrix\n",
    "#print(gr)"
   ]
  },
  {
   "cell_type": "code",
   "execution_count": 14,
   "metadata": {
    "collapsed": false
   },
   "outputs": [
    {
     "name": "stdout",
     "output_type": "stream",
     "text": [
      "0\n",
      "11\n",
      "45\n",
      "148\n",
      "348\n",
      "421\n",
      "429\n",
      "[1, 2, 4, 4, 3, 3, 3, 2, 4, 5, 5, 3, 4, 4, 4, 3, 4, 4, 5, 5, 3, 4, 4, 4, 3, 2, 4, 4, 4, 4, 4, 4, 4, 4, 5, 4, 2, 5, 4, 3, 5, 5, 4, 4, 4, 4, 4, 4, 4, 4, 4, 4, 4, 4, 5, 5, 3, 3, 4, 4, 4, 4, 2, 5, 4, 4, 4, 3, 4, 3, 3, 5, 1, 3, 5, 5, 5, 4, 5, 3, 3, 4, 6, 5, 3, 4, 4, 4, 3, 5, 4, 4, 4, 5, 3, 2, 4, 4, 6, 2, 4, 3, 4, 3, 4, 5, 4, 4, 4, 3, 4, 4, 5, 5, 3, 5, 3, 3, 3, 3, 7, 1, 2, 3, 5, 5, 5, 5, 2, 3, 4, 2, 4, 5, 4, 4, 5, 4, 4, 5, 4, 3, 7, 3, 5, 4, 2, 3, 5, 3, 3, 4, 5, 4, 4, 4, 2, 5, 3, 4, 3, 4, 4, 4, 3, 4, 5, 5, 2, 4, 4, 2, 3, 4, 3, 3, 3, 4, 4, 3, 5, 0, 4, 6, 2, 5, 3, 4, 4, 4, 3, 1, 3, 4, 3, 4, 3, 3, 5, 4, 5, 3, 5, 5, 3, 4, 4, 4, 3, 2, 4, 4, 4, 3, 3, 4, 2, 4, 4, 4, 4, 4, 3, 4, 3, 4, 5, 4, 2, 3, 3, 4, 2, 4, 4, 5, 4, 3, 4, 4, 0, 3, 3, 4, 4, 4, 3, 4, 3, 5, 6, 2, 3, 5, 3, 3, 6, 2, 3, 2, 3, 3, 3, 3, 4, 2, 5, 4, 5, 1, 4, 6, 3, 1, 2, 3, 6, 1, 4, 5, 4, 4, 5, 2, 4, 3, 4, 1, 5, 4, 5, 4, 4, 5, 4, 2, 5, 4, 4, 4, 4, 4, 4, 4, 4, 4, 4, 3, 4, 3, 4, 5, 4, 4, 5, 4, 4, 5, 4, 5, 4, 4, 3, 4, 4, 4, 4, 4, 3, 6, 3, 4, 2, 4, 2, 5, 5, 3, 3, 4, 4, 4, 4, 3, 4, 4, 5, 5, 3, 3, 4, 4, 2, 2, 4, 4, 3, 3, 3, 5, 3, 4, 4, 5, 4, 3, 5, 4, 4, 4, 5, 4, 4, 4, 4, 2, 5, 1, 4, 4, 3, 4, 3, 4, 3, 4, 2, 4, 4, 5, 3, 4, 4, 4, 5, 3, 4, 2, 5, 1, 4, 4, 3, 3, 4, 4, 4, 4, 4, 3, 4, 3, 2, 4, 5, 4, 5, 3, 4, 4, 4, 3, 4, 4, 3, 3, 4, 5, 3, 4, 4, 3]\n"
     ]
    }
   ],
   "source": [
    "dist=[]\n",
    "for i in range(0,len(gr[0])):\n",
    "        dist.append(0)\n",
    "x=0\n",
    "poss=[240]      \n",
    "visited=set()\n",
    "curr=set()\n",
    "while len(visited)!=len(gr)-1:\n",
    "    x+=1\n",
    "    print(len(visited))\n",
    "    for k in list(poss):\n",
    "        for i in range(0,len(gr[k])):\n",
    "            if gr[k][i]==1 and i!=240 and i not in visited:\n",
    "                #print(i)\n",
    "                dist[i]=x\n",
    "                visited.update({i})\n",
    "                curr.update({i})\n",
    "                visited.update({k})\n",
    "    poss=set(curr)\n",
    "print(dist)"
   ]
  },
  {
   "cell_type": "code",
   "execution_count": null,
   "metadata": {
    "collapsed": false
   },
   "outputs": [],
   "source": []
  },
  {
   "cell_type": "code",
   "execution_count": null,
   "metadata": {
    "collapsed": true
   },
   "outputs": [],
   "source": []
  }
 ],
 "metadata": {
  "kernelspec": {
   "display_name": "Python 3",
   "language": "python",
   "name": "python3"
  },
  "language_info": {
   "codemirror_mode": {
    "name": "ipython",
    "version": 3
   },
   "file_extension": ".py",
   "mimetype": "text/x-python",
   "name": "python",
   "nbconvert_exporter": "python",
   "pygments_lexer": "ipython3",
   "version": "3.6.0"
  }
 },
 "nbformat": 4,
 "nbformat_minor": 0
}
